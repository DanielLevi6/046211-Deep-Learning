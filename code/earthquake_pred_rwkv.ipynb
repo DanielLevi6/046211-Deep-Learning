{
 "cells": [
  {
   "attachments": {},
   "cell_type": "markdown",
   "metadata": {
    "id": "ja9hzdkf-oMs"
   },
   "source": [
    "## Install required libraries"
   ]
  },
  {
   "cell_type": "code",
   "execution_count": 1,
   "metadata": {
    "ExecuteTime": {
     "end_time": "2024-04-06T12:37:42.743851Z",
     "start_time": "2024-04-06T12:37:37.707812Z"
    },
    "id": "B6robljlMnuN"
   },
   "outputs": [
    {
     "name": "stdout",
     "output_type": "stream",
     "text": [
      "Requirement already satisfied: transformers in c:\\technion\\git\\046211-deep-learning\\venv\\lib\\site-packages (4.39.2)\n",
      "Requirement already satisfied: filelock in c:\\technion\\git\\046211-deep-learning\\venv\\lib\\site-packages (from transformers) (3.13.3)\n",
      "Requirement already satisfied: huggingface-hub<1.0,>=0.19.3 in c:\\technion\\git\\046211-deep-learning\\venv\\lib\\site-packages (from transformers) (0.22.2)\n",
      "Requirement already satisfied: numpy>=1.17 in c:\\technion\\git\\046211-deep-learning\\venv\\lib\\site-packages (from transformers) (1.26.4)\n",
      "Requirement already satisfied: packaging>=20.0 in c:\\technion\\git\\046211-deep-learning\\venv\\lib\\site-packages (from transformers) (24.0)\n",
      "Requirement already satisfied: pyyaml>=5.1 in c:\\technion\\git\\046211-deep-learning\\venv\\lib\\site-packages (from transformers) (6.0.1)\n",
      "Requirement already satisfied: regex!=2019.12.17 in c:\\technion\\git\\046211-deep-learning\\venv\\lib\\site-packages (from transformers) (2023.12.25)\n",
      "Requirement already satisfied: requests in c:\\technion\\git\\046211-deep-learning\\venv\\lib\\site-packages (from transformers) (2.31.0)\n",
      "Requirement already satisfied: tokenizers<0.19,>=0.14 in c:\\technion\\git\\046211-deep-learning\\venv\\lib\\site-packages (from transformers) (0.15.2)\n",
      "Requirement already satisfied: safetensors>=0.4.1 in c:\\technion\\git\\046211-deep-learning\\venv\\lib\\site-packages (from transformers) (0.4.2)\n",
      "Requirement already satisfied: tqdm>=4.27 in c:\\technion\\git\\046211-deep-learning\\venv\\lib\\site-packages (from transformers) (4.66.2)\n",
      "Requirement already satisfied: fsspec>=2023.5.0 in c:\\technion\\git\\046211-deep-learning\\venv\\lib\\site-packages (from huggingface-hub<1.0,>=0.19.3->transformers) (2024.3.1)\n",
      "Requirement already satisfied: typing-extensions>=3.7.4.3 in c:\\technion\\git\\046211-deep-learning\\venv\\lib\\site-packages (from huggingface-hub<1.0,>=0.19.3->transformers) (4.10.0)\n",
      "Requirement already satisfied: colorama in c:\\technion\\git\\046211-deep-learning\\venv\\lib\\site-packages (from tqdm>=4.27->transformers) (0.4.6)\n",
      "Requirement already satisfied: charset-normalizer<4,>=2 in c:\\technion\\git\\046211-deep-learning\\venv\\lib\\site-packages (from requests->transformers) (3.3.2)\n",
      "Requirement already satisfied: idna<4,>=2.5 in c:\\technion\\git\\046211-deep-learning\\venv\\lib\\site-packages (from requests->transformers) (3.6)\n",
      "Requirement already satisfied: urllib3<3,>=1.21.1 in c:\\technion\\git\\046211-deep-learning\\venv\\lib\\site-packages (from requests->transformers) (2.2.1)\n",
      "Requirement already satisfied: certifi>=2017.4.17 in c:\\technion\\git\\046211-deep-learning\\venv\\lib\\site-packages (from requests->transformers) (2024.2.2)\n",
      "Note: you may need to restart the kernel to use updated packages.\n"
     ]
    },
    {
     "name": "stderr",
     "output_type": "stream",
     "text": [
      "\n",
      "[notice] A new release of pip is available: 23.2.1 -> 24.0\n",
      "[notice] To update, run: python.exe -m pip install --upgrade pip\n"
     ]
    },
    {
     "name": "stdout",
     "output_type": "stream",
     "text": [
      "Requirement already satisfied: rwkv in c:\\technion\\git\\046211-deep-learning\\venv\\lib\\site-packages (0.8.25)\n",
      "Requirement already satisfied: tokenizers>=0.13.2 in c:\\technion\\git\\046211-deep-learning\\venv\\lib\\site-packages (from rwkv) (0.15.2)\n",
      "Requirement already satisfied: huggingface_hub<1.0,>=0.16.4 in c:\\technion\\git\\046211-deep-learning\\venv\\lib\\site-packages (from tokenizers>=0.13.2->rwkv) (0.22.2)\n",
      "Requirement already satisfied: filelock in c:\\technion\\git\\046211-deep-learning\\venv\\lib\\site-packages (from huggingface_hub<1.0,>=0.16.4->tokenizers>=0.13.2->rwkv) (3.13.3)\n",
      "Requirement already satisfied: fsspec>=2023.5.0 in c:\\technion\\git\\046211-deep-learning\\venv\\lib\\site-packages (from huggingface_hub<1.0,>=0.16.4->tokenizers>=0.13.2->rwkv) (2024.3.1)\n",
      "Requirement already satisfied: packaging>=20.9 in c:\\technion\\git\\046211-deep-learning\\venv\\lib\\site-packages (from huggingface_hub<1.0,>=0.16.4->tokenizers>=0.13.2->rwkv) (24.0)\n",
      "Requirement already satisfied: pyyaml>=5.1 in c:\\technion\\git\\046211-deep-learning\\venv\\lib\\site-packages (from huggingface_hub<1.0,>=0.16.4->tokenizers>=0.13.2->rwkv) (6.0.1)\n",
      "Requirement already satisfied: requests in c:\\technion\\git\\046211-deep-learning\\venv\\lib\\site-packages (from huggingface_hub<1.0,>=0.16.4->tokenizers>=0.13.2->rwkv) (2.31.0)\n",
      "Requirement already satisfied: tqdm>=4.42.1 in c:\\technion\\git\\046211-deep-learning\\venv\\lib\\site-packages (from huggingface_hub<1.0,>=0.16.4->tokenizers>=0.13.2->rwkv) (4.66.2)\n",
      "Requirement already satisfied: typing-extensions>=3.7.4.3 in c:\\technion\\git\\046211-deep-learning\\venv\\lib\\site-packages (from huggingface_hub<1.0,>=0.16.4->tokenizers>=0.13.2->rwkv) (4.10.0)\n",
      "Requirement already satisfied: colorama in c:\\technion\\git\\046211-deep-learning\\venv\\lib\\site-packages (from tqdm>=4.42.1->huggingface_hub<1.0,>=0.16.4->tokenizers>=0.13.2->rwkv) (0.4.6)\n",
      "Requirement already satisfied: charset-normalizer<4,>=2 in c:\\technion\\git\\046211-deep-learning\\venv\\lib\\site-packages (from requests->huggingface_hub<1.0,>=0.16.4->tokenizers>=0.13.2->rwkv) (3.3.2)\n",
      "Requirement already satisfied: idna<4,>=2.5 in c:\\technion\\git\\046211-deep-learning\\venv\\lib\\site-packages (from requests->huggingface_hub<1.0,>=0.16.4->tokenizers>=0.13.2->rwkv) (3.6)\n",
      "Requirement already satisfied: urllib3<3,>=1.21.1 in c:\\technion\\git\\046211-deep-learning\\venv\\lib\\site-packages (from requests->huggingface_hub<1.0,>=0.16.4->tokenizers>=0.13.2->rwkv) (2.2.1)\n",
      "Requirement already satisfied: certifi>=2017.4.17 in c:\\technion\\git\\046211-deep-learning\\venv\\lib\\site-packages (from requests->huggingface_hub<1.0,>=0.16.4->tokenizers>=0.13.2->rwkv) (2024.2.2)\n",
      "Note: you may need to restart the kernel to use updated packages.\n"
     ]
    },
    {
     "name": "stderr",
     "output_type": "stream",
     "text": [
      "\n",
      "[notice] A new release of pip is available: 23.2.1 -> 24.0\n",
      "[notice] To update, run: python.exe -m pip install --upgrade pip\n"
     ]
    }
   ],
   "source": [
    "%pip install transformers\n",
    "%pip install rwkv"
   ]
  },
  {
   "cell_type": "markdown",
   "metadata": {
    "collapsed": false
   },
   "source": [
    "# Imports"
   ]
  },
  {
   "cell_type": "code",
   "execution_count": 2,
   "metadata": {
    "ExecuteTime": {
     "end_time": "2024-04-06T12:37:44.884763Z",
     "start_time": "2024-04-06T12:37:42.744866Z"
    },
    "collapsed": false
   },
   "outputs": [],
   "source": [
    "import numpy as np\n",
    "import pandas as pd\n",
    "\n",
    "import torch\n",
    "from torch import nn\n",
    "import torch.utils.checkpoint\n",
    "from torch.optim.lr_scheduler import StepLR\n",
    "from torch.utils.data import DataLoader\n",
    "\n",
    "import matplotlib.pyplot as plt\n",
    "\n",
    "from typing import List, Optional, Tuple, Union\n",
    "\n",
    "from math import floor\n",
    "\n",
    "from transformers.models.rwkv.configuration_rwkv import RwkvConfig\n",
    "from transformers.models.rwkv.modeling_rwkv import RwkvBlock, RwkvPreTrainedModel, RwkvOutput"
   ]
  },
  {
   "cell_type": "code",
   "execution_count": 3,
   "metadata": {
    "ExecuteTime": {
     "end_time": "2024-04-06T12:37:44.891034Z",
     "start_time": "2024-04-06T12:37:44.884763Z"
    },
    "id": "8xVgCEy1Mf3O"
   },
   "outputs": [
    {
     "data": {
      "text/plain": [
       "<torch._C.Generator at 0x25f052d7610>"
      ]
     },
     "execution_count": 3,
     "metadata": {},
     "output_type": "execute_result"
    }
   ],
   "source": [
    "seed = 20\n",
    "np.random.seed(seed)\n",
    "torch.manual_seed(seed)"
   ]
  },
  {
   "attachments": {},
   "cell_type": "markdown",
   "metadata": {
    "id": "2282Bsw_-xhL"
   },
   "source": [
    "## Custom model - RWKV\n",
    "Based on HuggingFace RWKV model"
   ]
  },
  {
   "cell_type": "code",
   "execution_count": 4,
   "metadata": {
    "ExecuteTime": {
     "end_time": "2024-04-06T12:37:44.902186Z",
     "start_time": "2024-04-06T12:37:44.891668Z"
    },
    "id": "Q3fDrDbFNRC0"
   },
   "outputs": [],
   "source": [
    "# coding=utf-8\n",
    "# Copyright 2023 Bo Peng and HuggingFace Inc. team.\n",
    "# Copyright (c) 2018, NVIDIA CORPORATION.  All rights reserved.\n",
    "#\n",
    "# Licensed under the Apache License, Version 2.0 (the \"License\");\n",
    "# you may not use this file except in compliance with the License.\n",
    "# You may obtain a copy of the License at\n",
    "#\n",
    "#     http://www.apache.org/licenses/LICENSE-2.0\n",
    "#\n",
    "# Unless required by applicable law or agreed to in writing, software\n",
    "# distributed under the License is distributed on an \"AS IS\" BASIS,\n",
    "# WITHOUT WARRANTIES OR CONDITIONS OF ANY KIND, either express or implied.\n",
    "# See the License for the specific language governing permissions and\n",
    "# limitations under the License.\n",
    "\"\"\"PyTorch RWKV model.\"\"\"\n",
    "\n",
    "rwkv_cuda_kernel = None\n",
    "\n",
    "class EarthquakePredictorRWKV(RwkvPreTrainedModel):\n",
    "    def __init__(self, config, input_size=1, output_size=1):\n",
    "        super().__init__(config)\n",
    "        \n",
    "        self.embeddings = nn.Embedding(config.vocab_size, config.hidden_size)\n",
    "        \n",
    "        # fc1\n",
    "        self.input_linear = nn.Linear(input_size, config.hidden_size)\n",
    "        \n",
    "        # ReLU and Dropout layers\n",
    "        self.relu = nn.ReLU()\n",
    "        self.dropout = nn.Dropout(0.2)\n",
    "        \n",
    "        self.blocks = nn.ModuleList([RwkvBlock(config, layer_id=idx) for idx in range(config.num_hidden_layers)])\n",
    "        self.ln_out = nn.LayerNorm(config.hidden_size)\n",
    "        \n",
    "        # Output linear layer\n",
    "        self.output_linear = nn.Linear(config.hidden_size, output_size)\n",
    "        \n",
    "        self.layers_are_rescaled = False\n",
    "\n",
    "        self.gradient_checkpointing = False\n",
    "\n",
    "        # Initialize weights and apply final processing\n",
    "        self.post_init()\n",
    "\n",
    "    def get_input_embeddings(self):\n",
    "        return self.embeddings\n",
    "\n",
    "    def set_input_embeddings(self, new_embeddings):\n",
    "        self.embeddings = new_embeddings\n",
    "\n",
    "    def forward(\n",
    "        self,\n",
    "        input_ids: Optional[torch.LongTensor] = None,\n",
    "        attention_mask: Optional[torch.LongTensor] = None,  # noqa\n",
    "        inputs_embeds: Optional[torch.FloatTensor] = None,\n",
    "        state: Optional[List[torch.FloatTensor]] = None,\n",
    "        use_cache: Optional[bool] = None,\n",
    "        output_attentions: Optional[bool] = None,\n",
    "        output_hidden_states: Optional[bool] = None,\n",
    "        return_dict: Optional[bool] = None,\n",
    "    ) -> Union[Tuple, RwkvOutput]:\n",
    "        output_attentions = output_attentions if output_attentions is not None else self.config.output_attentions\n",
    "        output_hidden_states = (\n",
    "            output_hidden_states if output_hidden_states is not None else self.config.output_hidden_states\n",
    "        )\n",
    "        use_cache = use_cache if use_cache is not None else (self.config.use_cache if not self.training else False)\n",
    "        return_dict = return_dict if return_dict is not None else self.config.use_return_dict\n",
    "\n",
    "        if self.training == self.layers_are_rescaled:\n",
    "            self._rescale_layers()\n",
    "\n",
    "        if input_ids is not None and inputs_embeds is not None:\n",
    "            raise ValueError(\"You cannot specify both input_ids and inputs_embeds at the same time\")\n",
    "        elif input_ids is None and inputs_embeds is None:\n",
    "            raise ValueError(\"You have to specify either input_ids or inputs_embeds\")\n",
    "\n",
    "        if use_cache and state is None:\n",
    "            shape = (inputs_embeds.size(0), self.config.hidden_size, self.config.num_hidden_layers)\n",
    "            state = [\n",
    "                torch.zeros(\n",
    "                    *shape, dtype=inputs_embeds.dtype if i <= 1 else torch.float32, device=inputs_embeds.device\n",
    "                )\n",
    "                for i in range(5)\n",
    "            ]\n",
    "            state[4] -= 1e30\n",
    "\n",
    "        if self.gradient_checkpointing and self.training:\n",
    "            if use_cache:\n",
    "                print(\"`use_cache=True` is incompatible with gradient checkpointing. Setting `use_cache=False`...\")\n",
    "                use_cache = False\n",
    "\n",
    "        hidden_states = self.relu(self.input_linear(input_ids))\n",
    "\n",
    "        all_self_attentions = () if output_attentions else None\n",
    "        all_hidden_states = () if output_hidden_states else None\n",
    "        for idx, block in enumerate(self.blocks):\n",
    "            if self.gradient_checkpointing and self.training:\n",
    "                hidden_states, state, attentions = self._gradient_checkpointing_func(\n",
    "                    block.__call__, hidden_states, state, use_cache, output_attentions\n",
    "                )\n",
    "            else:\n",
    "                hidden_states, state, attentions = block(\n",
    "                    hidden_states, state=state, use_cache=use_cache, output_attentions=output_attentions\n",
    "                )\n",
    "\n",
    "            if (\n",
    "                self.layers_are_rescaled\n",
    "                and self.config.rescale_every > 0\n",
    "                and (idx + 1) % self.config.rescale_every == 0\n",
    "            ):\n",
    "                hidden_states = hidden_states / 2\n",
    "\n",
    "            if output_hidden_states:\n",
    "                all_hidden_states = all_hidden_states + (hidden_states,)\n",
    "\n",
    "            if output_attentions:\n",
    "                all_self_attentions = all_self_attentions + (attentions,)\n",
    "\n",
    "        hidden_states = self.output_linear(self.ln_out(hidden_states))\n",
    "\n",
    "        if output_hidden_states:\n",
    "            all_hidden_states = all_hidden_states + (hidden_states,)\n",
    "\n",
    "        if not return_dict:\n",
    "            return tuple(x for x in [hidden_states, state, all_hidden_states, all_self_attentions] if x is not None)\n",
    "\n",
    "        return RwkvOutput(\n",
    "            last_hidden_state=hidden_states,\n",
    "            state=state,\n",
    "            hidden_states=all_hidden_states,\n",
    "            attentions=all_self_attentions,\n",
    "        )\n",
    "\n",
    "    def _rescale_layers(self):\n",
    "        # Layers should be rescaled for inference only.\n",
    "        if self.layers_are_rescaled == (not self.training):\n",
    "            return\n",
    "        if self.config.rescale_every > 0:\n",
    "            with torch.no_grad():\n",
    "                for block_id, block in enumerate(self.blocks):\n",
    "                    if self.training:\n",
    "                        block.attention.output.weight.mul_(2 ** int(block_id // self.config.rescale_every))\n",
    "                        block.feed_forward.value.weight.mul_(2 ** int(block_id // self.config.rescale_every))\n",
    "                    else:\n",
    "                        # Deal with quantization statistics\n",
    "                        if hasattr(block.attention.output.weight, \"SCB\"):\n",
    "                            block.attention.output.weight.SCB.div_(2 ** int(block_id // self.config.rescale_every))\n",
    "                            block.feed_forward.value.weight.SCB.div_(2 ** int(block_id // self.config.rescale_every))\n",
    "                        elif hasattr(block.attention.output.weight, \"quant_state\"):\n",
    "                            self._bnb_4bit_dequantize_and_rescale(block.attention.output, block_id)\n",
    "                            self._bnb_4bit_dequantize_and_rescale(block.feed_forward.value, block_id)\n",
    "                        else:\n",
    "                            block.attention.output.weight.div_(2 ** int(block_id // self.config.rescale_every))\n",
    "                            block.feed_forward.value.weight.div_(2 ** int(block_id // self.config.rescale_every))\n",
    "\n",
    "        self.layers_are_rescaled = not self.training\n"
   ]
  },
  {
   "attachments": {},
   "cell_type": "markdown",
   "metadata": {
    "id": "OA-9-mVy-7W5"
   },
   "source": [
    "## Model configuration"
   ]
  },
  {
   "cell_type": "code",
   "execution_count": 5,
   "metadata": {
    "ExecuteTime": {
     "end_time": "2024-04-06T12:37:44.905639Z",
     "start_time": "2024-04-06T12:37:44.903210Z"
    },
    "id": "VSjlBANsMf3Q"
   },
   "outputs": [],
   "source": [
    "window_size = 50\n",
    "num_rwkv_layers = 24\n",
    "hidden_size = 32\n",
    "context = 50\n",
    "batch_size = 25"
   ]
  },
  {
   "attachments": {},
   "cell_type": "markdown",
   "metadata": {
    "id": "AFhrSgIi_AE4"
   },
   "source": [
    "## Data loading"
   ]
  },
  {
   "cell_type": "code",
   "execution_count": 6,
   "metadata": {
    "ExecuteTime": {
     "end_time": "2024-04-06T12:37:49.214008Z",
     "start_time": "2024-04-06T12:37:44.905639Z"
    },
    "collapsed": false
   },
   "outputs": [
    {
     "name": "stdout",
     "output_type": "stream",
     "text": [
      "      Olus tarihi  count\n",
      "49999  1994.09.11      1\n",
      "49997  1994.09.13      2\n",
      "49996  1994.09.15      1\n",
      "49995  1994.09.16      1\n",
      "49992  1994.09.17      3\n",
      "...           ...    ...\n",
      "17     2023.07.27      3\n",
      "15     2023.07.28      2\n",
      "7      2023.07.29      8\n",
      "3      2023.07.30      4\n",
      "0      2023.07.31      3\n",
      "\n",
      "[9639 rows x 2 columns]\n"
     ]
    },
    {
     "data": {
      "text/plain": [
       "Text(0.5, 1.0, 'Number of earthquakes in Turkey vs. Date')"
      ]
     },
     "execution_count": 6,
     "metadata": {},
     "output_type": "execute_result"
    },
    {
     "data": {
      "image/png": "[encoded data removed]",
      "text/plain": [
       "<Figure size 640x480 with 1 Axes>"
      ]
     },
     "metadata": {},
     "output_type": "display_data"
    }
   ],
   "source": [
    "dataset = pd.read_csv('C:/Technion/Git/046211-Deep-Learning/Data/veriler.csv')\n",
    "\n",
    "dataset['count'] = dataset.groupby('Olus tarihi')['Olus tarihi'].transform('count')\n",
    "dataset = dataset[[\"Olus tarihi\", \"count\"]]\n",
    "dataset = dataset.drop_duplicates()\n",
    "dataset = dataset.iloc[::-1]\n",
    "print(dataset)\n",
    "\n",
    "\n",
    "plt.bar(dataset[\"Olus tarihi\"], dataset[\"count\"], color=\"black\")\n",
    "plt.xlabel(\"Date\")\n",
    "df_fo_graph = [year[:4] for year in dataset[\"Olus tarihi\"]]\n",
    "xticks = [df_fo_graph.index(str(year)) for year in range(1994, 2023)][0::5]\n",
    "xticks.append(df_fo_graph.index(str('2023')))\n",
    "xticks_labels = list(range(1994, 2023))[0::5]\n",
    "xticks_labels.append('2023')\n",
    "plt.xticks(ticks=xticks, labels=xticks_labels)\n",
    "plt.ylim((0, 250))\n",
    "plt.ylabel(\"Number of earthquakes\")\n",
    "plt.title(\"Number of earthquakes in Turkey vs. Date\")"
   ]
  },
  {
   "cell_type": "markdown",
   "metadata": {},
   "source": [
    "## Data pre-processing"
   ]
  },
  {
   "cell_type": "code",
   "execution_count": 7,
   "metadata": {
    "ExecuteTime": {
     "end_time": "2024-04-06T12:37:49.231595Z",
     "start_time": "2024-04-06T12:37:49.222059Z"
    },
    "id": "scUxZWi6Mf3R"
   },
   "outputs": [],
   "source": [
    "def create_x_sample(x: np.ndarray, window_size):\n",
    "    number_of_rows = x.shape[0] - window_size + 1\n",
    "    \n",
    "    if number_of_rows <= 0:\n",
    "        raise ValueError(\"Window size is larger than the input array size.\")\n",
    "    \n",
    "    input_data = np.zeros((number_of_rows, window_size))\n",
    "    \n",
    "    for i in range(number_of_rows):\n",
    "        input_data[i] = x[i:i+window_size]\n",
    "    \n",
    "    return input_data\n",
    "\n",
    "def create_window_samples(data: np.ndarray, window_size):\n",
    "    num_of_samples = data.shape[1]\n",
    "    mat_x = []\n",
    "    for i in range(num_of_samples):\n",
    "        row = data[:,i].T\n",
    "        row_x = create_x_sample(row, window_size)\n",
    "        mat_x.append(row_x)\n",
    "    return np.array(mat_x)\n",
    "\n",
    "data_raw = dataset[['count']].to_numpy()\n",
    "num_data_points = data_raw.shape[0]\n",
    "\n",
    "x_vector = create_window_samples(data_raw, window_size=window_size)\n",
    "x_vector = np.moveaxis(x_vector, 0, 2)\n",
    "\n",
    "y_labels = data_raw[window_size:]\n",
    "\n",
    "# Split dataset\n",
    "split_train_val = floor(num_data_points * (60 /100))\n",
    "split_val_to_test = floor(num_data_points * (80 /100))\n",
    "\n",
    "x_vector_train = x_vector[:split_train_val]\n",
    "y_labels_train = y_labels[:split_train_val]\n",
    "\n",
    "x_vector_val = x_vector[split_train_val:split_val_to_test]\n",
    "y_labels_val = y_labels[split_train_val:split_val_to_test]\n",
    "\n",
    "x_vector_test = x_vector[split_val_to_test:]\n",
    "y_labels_test = y_labels[split_val_to_test:]"
   ]
  },
  {
   "cell_type": "markdown",
   "metadata": {},
   "source": [
    "## Data visualization"
   ]
  },
  {
   "cell_type": "code",
   "execution_count": 8,
   "metadata": {
    "ExecuteTime": {
     "end_time": "2024-04-06T12:37:56.382745Z",
     "start_time": "2024-04-06T12:37:49.235742Z"
    },
    "colab": {
     "base_uri": "https://localhost:8080/",
     "height": 358
    },
    "id": "YJI5V5sgMf3S",
    "outputId": "ac33ce12-50d9-4357-8455-f3734f936bbb"
   },
   "outputs": [
    {
     "data": {
      "image/png": "[encoded data removed]",
      "text/plain": [
       "<Figure size 2000x400 with 1 Axes>"
      ]
     },
     "metadata": {},
     "output_type": "display_data"
    }
   ],
   "source": [
    "plotting_y_train = np.array([None] * window_size + list(y_labels_train[:, 0]) + [None] * (num_data_points-(split_train_val+window_size)))\n",
    "plotting_y_val = np.array([None] * (split_train_val+window_size) + list(y_labels_val[:, 0]) + [None] * (num_data_points-(split_val_to_test+window_size)))\n",
    "plotting_y_test = np.array([None] * (split_val_to_test+window_size) + list(y_labels_test[:, 0]))\n",
    "\n",
    "## plots\n",
    "data_date = np.arange(num_data_points)\n",
    "fig = plt.figure(figsize=(20, 4))\n",
    "plt.title(\"Number of earthquakes per day - splited to train, validation and test\")\n",
    "\n",
    "xticks = data_date[0:num_data_points:500]\n",
    "plt.xticks(xticks, xticks)\n",
    "\n",
    "plt.plot(data_date, plotting_y_train, label=\"Number of earthquakes (train)\", color='red')\n",
    "plt.plot(data_date, plotting_y_val, label=\"Number of earthquakes (validation)\", color='orange')\n",
    "plt.plot(data_date, plotting_y_test, label=\"Number of earthquakes (test)\", color='green')\n",
    "\n",
    "plt.text(x=(split_train_val) / 2, y=500, s=\"Train\", color=\"red\")\n",
    "plt.text(x=(split_val_to_test + split_train_val) / 2 +window_size, y=500, s=\"Val\", color='orange')\n",
    "plt.text(x=(num_data_points + (split_val_to_test+window_size)) / 2, y=500, s=\"Test\", color='green')\n",
    "\n",
    "plt.axvline(x=split_train_val+window_size, color='orange', linestyle='--')\n",
    "plt.axvline(x=split_val_to_test+window_size, color='green', linestyle='--')\n",
    "\n",
    "plt.show()"
   ]
  },
  {
   "cell_type": "markdown",
   "metadata": {},
   "source": [
    "## Dataloaders"
   ]
  },
  {
   "cell_type": "code",
   "execution_count": 9,
   "metadata": {
    "ExecuteTime": {
     "end_time": "2024-04-06T12:37:56.387966Z",
     "start_time": "2024-04-06T12:37:56.383749Z"
    },
    "colab": {
     "base_uri": "https://localhost:8080/"
    },
    "id": "Yea8_pKOMf3T",
    "outputId": "386d74c9-4502-451b-c5cb-3ea39c2a3c2f"
   },
   "outputs": [],
   "source": [
    "### Need to be changed\n",
    "\n",
    "# Convert data to float32\n",
    "x_vector_train = x_vector_train.astype(np.float32)\n",
    "y_labels_train = y_labels_train.astype(np.float32)\n",
    "x_vector_val = x_vector_val.astype(np.float32)\n",
    "y_labels_val = y_labels_val.astype(np.float32)\n",
    "x_vector_test = x_vector_test.astype(np.float32)\n",
    "y_labels_test = y_labels_test.astype(np.float32)\n",
    "\n",
    "# Create lists of tuples for train, validation, and test datasets\n",
    "dataset_train = [(x, y) for x, y in zip(x_vector_train, y_labels_train)]\n",
    "dataset_val = [(x, y) for x, y in zip(x_vector_val, y_labels_val)]\n",
    "dataset_test = [(x, y) for x, y in zip(x_vector_test, y_labels_test)]\n",
    "\n",
    "train_dataloader = DataLoader(dataset_train, batch_size=batch_size, shuffle=True)\n",
    "val_dataloader = DataLoader(dataset_val, batch_size=batch_size, shuffle=False)\n",
    "test_dataloader = DataLoader(dataset_test, batch_size=batch_size, shuffle=False)"
   ]
  },
  {
   "attachments": {},
   "cell_type": "markdown",
   "metadata": {
    "id": "DcQAzJBQ_S-6"
   },
   "source": [
    "## Model creation"
   ]
  },
  {
   "cell_type": "code",
   "execution_count": 10,
   "metadata": {
    "ExecuteTime": {
     "end_time": "2024-04-06T12:37:56.396054Z",
     "start_time": "2024-04-06T12:37:56.387966Z"
    },
    "id": "DqVG2sadTF5p"
   },
   "outputs": [
    {
     "name": "stdout",
     "output_type": "stream",
     "text": [
      "The device that is being used is: cpu\n",
      "EarthquakePredictorRWKV(\n",
      "  (embeddings): Embedding(0, 32)\n",
      "  (input_linear): Linear(in_features=1, out_features=32, bias=True)\n",
      "  (relu): ReLU()\n",
      "  (dropout): Dropout(p=0.2, inplace=False)\n",
      "  (blocks): ModuleList(\n",
      "    (0): RwkvBlock(\n",
      "      (pre_ln): LayerNorm((32,), eps=1e-05, elementwise_affine=True)\n",
      "      (ln1): LayerNorm((32,), eps=1e-05, elementwise_affine=True)\n",
      "      (ln2): LayerNorm((32,), eps=1e-05, elementwise_affine=True)\n",
      "      (attention): RwkvSelfAttention(\n",
      "        (time_shift): ZeroPad2d((0, 0, 1, -1))\n",
      "        (key): Linear(in_features=32, out_features=32, bias=False)\n",
      "        (value): Linear(in_features=32, out_features=32, bias=False)\n",
      "        (receptance): Linear(in_features=32, out_features=32, bias=False)\n",
      "        (output): Linear(in_features=32, out_features=32, bias=False)\n",
      "      )\n",
      "      (feed_forward): RwkvFeedForward(\n",
      "        (time_shift): ZeroPad2d((0, 0, 1, -1))\n",
      "        (key): Linear(in_features=32, out_features=128, bias=False)\n",
      "        (receptance): Linear(in_features=32, out_features=32, bias=False)\n",
      "        (value): Linear(in_features=128, out_features=32, bias=False)\n",
      "      )\n",
      "    )\n",
      "    (1-23): 23 x RwkvBlock(\n",
      "      (ln1): LayerNorm((32,), eps=1e-05, elementwise_affine=True)\n",
      "      (ln2): LayerNorm((32,), eps=1e-05, elementwise_affine=True)\n",
      "      (attention): RwkvSelfAttention(\n",
      "        (time_shift): ZeroPad2d((0, 0, 1, -1))\n",
      "        (key): Linear(in_features=32, out_features=32, bias=False)\n",
      "        (value): Linear(in_features=32, out_features=32, bias=False)\n",
      "        (receptance): Linear(in_features=32, out_features=32, bias=False)\n",
      "        (output): Linear(in_features=32, out_features=32, bias=False)\n",
      "      )\n",
      "      (feed_forward): RwkvFeedForward(\n",
      "        (time_shift): ZeroPad2d((0, 0, 1, -1))\n",
      "        (key): Linear(in_features=32, out_features=128, bias=False)\n",
      "        (receptance): Linear(in_features=32, out_features=32, bias=False)\n",
      "        (value): Linear(in_features=128, out_features=32, bias=False)\n",
      "      )\n",
      "    )\n",
      "  )\n",
      "  (ln_out): LayerNorm((32,), eps=1e-05, elementwise_affine=True)\n",
      "  (output_linear): Linear(in_features=32, out_features=1, bias=True)\n",
      ")\n"
     ]
    }
   ],
   "source": [
    "rwkv_config = RwkvConfig(vocab_size=0, context_length=context, hidden_size=hidden_size, use_cache=False, num_hidden_layers=num_rwkv_layers)\n",
    "\n",
    "model = EarthquakePredictorRWKV(rwkv_config)\n",
    "device = torch.device(\"cuda:0\" if torch.cuda.is_available() else \"cpu\")\n",
    "model.to(device)\n",
    "\n",
    "print(f'The device that is being used is: {device}')\n",
    "\n",
    "print(model)"
   ]
  },
  {
   "cell_type": "markdown",
   "metadata": {},
   "source": [
    "## Training hyper-parameters"
   ]
  },
  {
   "cell_type": "code",
   "execution_count": 11,
   "metadata": {
    "ExecuteTime": {
     "end_time": "2024-04-06T12:37:57.165334Z",
     "start_time": "2024-04-06T12:37:56.421449Z"
    },
    "id": "fmJlVKu-Mf3U"
   },
   "outputs": [
    {
     "name": "stderr",
     "output_type": "stream",
     "text": [
      "c:\\Technion\\Git\\046211-Deep-Learning\\venv\\Lib\\site-packages\\torch\\optim\\lr_scheduler.py:28: UserWarning: The verbose parameter is deprecated. Please use get_last_lr() to access the learning rate.\n",
      "  warnings.warn(\"The verbose parameter is deprecated. Please use get_last_lr() \"\n"
     ]
    }
   ],
   "source": [
    "epochs = 25\n",
    "loss_fn = nn.MSELoss()\n",
    "optimizer = torch.optim.Adam(model.parameters(), lr=0.01)\n",
    "scheduler = StepLR(optimizer, step_size=7, gamma=0.5, verbose=True)"
   ]
  },
  {
   "attachments": {},
   "cell_type": "markdown",
   "metadata": {
    "id": "wESz1a8n_ZfZ"
   },
   "source": [
    "## Training and Evaluation"
   ]
  },
  {
   "cell_type": "code",
   "execution_count": 12,
   "metadata": {
    "ExecuteTime": {
     "end_time": "2024-04-06T12:37:57.171112Z",
     "start_time": "2024-04-06T12:37:57.165334Z"
    },
    "id": "uxBwxri9Mf3U"
   },
   "outputs": [],
   "source": [
    "from tqdm.auto import tqdm\n",
    "from timeit import default_timer as timer\n",
    "\n",
    "from sklearn.metrics import mean_absolute_error, mean_absolute_percentage_error\n",
    "\n",
    "# Class to have default values for test results\n",
    "class TestStepResults:\n",
    "    def __init__(self):\n",
    "        self.MIN_MAE = float('inf')\n",
    "        self.MIN_MAPE = float('inf')\n",
    "        self.min_pred = []\n",
    "        self.best_results = []\n",
    "\n",
    "\n",
    "# Train step function\n",
    "def train_step(model: nn.Module,\n",
    "               dataloader: torch.utils.data.DataLoader,\n",
    "               loss_fn: nn.Module,\n",
    "               optimizer: torch.optim.Optimizer):\n",
    "\n",
    "    # train mode\n",
    "    model.train()\n",
    "\n",
    "    # train loss\n",
    "    train_loss = 0\n",
    "\n",
    "    for batch, (X, y) in enumerate(dataloader):\n",
    "\n",
    "        # print(f\"Batch {batch}, Input Size: {X.size()}, Target Size: {y.size()}\")\n",
    "\n",
    "        # send data to device\n",
    "        X, y = X.to(device), y.to(device)\n",
    "\n",
    "        # forward pass\n",
    "        y_pred = model(X)\n",
    "        y_pred = y_pred.last_hidden_state[:,-1,0]\n",
    "\n",
    "        # calculate the loss\n",
    "        loss = loss_fn(y_pred, y[:, 0].contiguous())\n",
    "        train_loss += loss\n",
    "\n",
    "        # optimize the zero grad\n",
    "        optimizer.zero_grad()\n",
    "\n",
    "        # loss backwards\n",
    "        loss.backward()\n",
    "\n",
    "        # optimizer step\n",
    "        optimizer.step()\n",
    "\n",
    "    # Loss and accuracy normalization according to the length of the dataloader\n",
    "    train_loss /= len(dataloader)\n",
    "\n",
    "    return train_loss\n",
    "\n",
    "# Test step function\n",
    "def test_step(model: nn.Module,\n",
    "              dataloader: torch.utils.data.DataLoader,\n",
    "              loss_fn: nn.Module,\n",
    "              results: TestStepResults = TestStepResults()):\n",
    "    \n",
    "    # test_loss\n",
    "    test_loss = 0\n",
    "    pred = []\n",
    "    targ = []\n",
    "\n",
    "    # eval mode\n",
    "    model.eval()\n",
    "    with torch.no_grad():\n",
    "        for batch, (X_test, y_test) in enumerate(dataloader):\n",
    "\n",
    "            # send data to device\n",
    "            X_test, y_test = X_test.to(device), y_test.to(device)\n",
    "\n",
    "            # forward pass\n",
    "            y_test_pred = model(X_test)\n",
    "            y_test_pred = y_test_pred.last_hidden_state[:,-1,0]\n",
    "\n",
    "            pred.extend(y_test_pred.tolist())\n",
    "            targ.extend(y_test.squeeze(dim=1).tolist())\n",
    "\n",
    "            #calculate the loss\n",
    "            loss = loss_fn(y_test_pred, y_test[:, 0].contiguous())\n",
    "            test_loss += loss\n",
    "\n",
    "        # Loss normalization according to the length of the dataloader\n",
    "        test_loss /= len(dataloader)\n",
    "\n",
    "    MAE = mean_absolute_error(pred, targ)\n",
    "    MAPE = mean_absolute_percentage_error(pred, targ)\n",
    "    print ('-' * 50)\n",
    "    print ('-' * 50)\n",
    "    print('\\nTest MAE:{:.8f}\\t Test MAPE:{:.8f} %'.format(MAE, MAPE * 100)) ###\n",
    "\n",
    "    # Find the minimum values of MAE, MAPE and the best predictions and weights\n",
    "    if MAPE < results.MIN_MAPE:\n",
    "        results.min_pred = pred # the best prediction for all the test set\n",
    "        results.best_results = model.state_dict() # updating the best weights\n",
    "    results.MIN_MAE = min(results.MIN_MAE, MAE)\n",
    "    results.MIN_MAPE = min(results.MIN_MAPE, MAPE)\n",
    "\n",
    "    return test_loss, results.MIN_MAE, results.MIN_MAPE * 100, results.min_pred, results.best_results\n",
    "\n",
    "\n",
    "# Actual training and testing function\n",
    "def train(model: torch.nn.Module, \n",
    "          train_dataloader: torch.utils.data.DataLoader, \n",
    "          test_dataloader: torch.utils.data.DataLoader,\n",
    "          loss_fn: torch.nn.Module,\n",
    "          optimizer: torch.optim.Optimizer,\n",
    "          epochs: int,\n",
    "          scheduler: torch.optim.lr_scheduler = None):\n",
    "    \n",
    "    # empty results dictionary\n",
    "    results = {'train_loss': [],\n",
    "               'test_loss': []}\n",
    "\n",
    "    for epoch in tqdm(range(epochs)):\n",
    "\n",
    "        train_loss = train_step(model=model,\n",
    "                                dataloader=train_dataloader,\n",
    "                                loss_fn=loss_fn,\n",
    "                                optimizer=optimizer)\n",
    "                \n",
    "        test_loss, MIN_MAE, MIN_MAPE, min_pred, best_weights = test_step(model=model,\n",
    "                                                                               dataloader=test_dataloader,\n",
    "                                                                               loss_fn=loss_fn)\n",
    "        \n",
    "        # Step the scheduler\n",
    "        scheduler.step()\n",
    "        \n",
    "        # printing the progress\n",
    "        print(f'Epoch: {epoch+1} |\\t \\\n",
    "              Train loss: {train_loss:.8f} |\\t \\\n",
    "              Test loss: {test_loss:.8f}')\n",
    "        \n",
    "        # update results dictionary to a list\n",
    "        results['train_loss'].append(train_loss.item())\n",
    "        results['test_loss'].append(test_loss.item())\n",
    "\n",
    "        # Printing (in the last iteration) the best MAE and MAPE from all the epochs\n",
    "        if epoch == epochs - 1:\n",
    "            # Best MAE, MAPE\n",
    "            print(f'Best MAE is: {MIN_MAE:.8f}')\n",
    "            print(f'Best MAPE is: {MIN_MAPE:.8f} %')\n",
    "            # Best loss\n",
    "            print(f\"Best train loss is: {min(results['train_loss']):.8f}\")\n",
    "            print(f\"Best test loss is: {min(results['test_loss']):.8f}\")\n",
    "\n",
    "    return results, best_weights\n",
    "\n"
   ]
  },
  {
   "cell_type": "code",
   "execution_count": 13,
   "metadata": {},
   "outputs": [
    {
     "data": {
      "application/vnd.jupyter.widget-view+json": {
       "model_id": "059bfe37ea5a4dd38cd02cef6fb1a5b7",
       "version_major": 2,
       "version_minor": 0
      },
      "text/plain": [
       "  0%|          | 0/25 [00:00<?, ?it/s]"
      ]
     },
     "metadata": {},
     "output_type": "display_data"
    },
    {
     "name": "stdout",
     "output_type": "stream",
     "text": [
      "--------------------------------------------------\n",
      "--------------------------------------------------\n",
      "\n",
      "Test MAE:2.53140465\t Test MAPE:57.26167043 %\n",
      "Epoch: 1 |\t               Train loss: 31.76202774 |\t               Test loss: 57.20769501\n",
      "--------------------------------------------------\n",
      "--------------------------------------------------\n",
      "\n",
      "Test MAE:2.42486172\t Test MAPE:61.73240470 %\n",
      "Epoch: 2 |\t               Train loss: 27.63673973 |\t               Test loss: 52.58233261\n",
      "--------------------------------------------------\n",
      "--------------------------------------------------\n",
      "\n",
      "Test MAE:2.84421841\t Test MAPE:51.93440402 %\n",
      "Epoch: 3 |\t               Train loss: 29.55214691 |\t               Test loss: 52.63845825\n",
      "--------------------------------------------------\n",
      "--------------------------------------------------\n",
      "\n",
      "Test MAE:2.56995622\t Test MAPE:56.73502554 %\n",
      "Epoch: 4 |\t               Train loss: 27.99276352 |\t               Test loss: 58.17987442\n",
      "--------------------------------------------------\n",
      "--------------------------------------------------\n",
      "\n",
      "Test MAE:3.11697469\t Test MAPE:54.96397231 %\n",
      "Epoch: 5 |\t               Train loss: 28.74720955 |\t               Test loss: 57.11843491\n",
      "--------------------------------------------------\n",
      "--------------------------------------------------\n",
      "\n",
      "Test MAE:2.57917705\t Test MAPE:54.17736108 %\n",
      "Epoch: 6 |\t               Train loss: 27.22693443 |\t               Test loss: 52.64567184\n",
      "--------------------------------------------------\n",
      "--------------------------------------------------\n",
      "\n",
      "Test MAE:2.40190005\t Test MAPE:55.22212762 %\n",
      "Epoch: 7 |\t               Train loss: 25.09979439 |\t               Test loss: 47.26891708\n",
      "--------------------------------------------------\n",
      "--------------------------------------------------\n",
      "\n",
      "Test MAE:2.59484135\t Test MAPE:52.72665430 %\n",
      "Epoch: 8 |\t               Train loss: 26.04218864 |\t               Test loss: 49.82507706\n",
      "--------------------------------------------------\n",
      "--------------------------------------------------\n",
      "\n",
      "Test MAE:2.67835682\t Test MAPE:52.13276081 %\n",
      "Epoch: 9 |\t               Train loss: 24.07647896 |\t               Test loss: 48.26374054\n",
      "--------------------------------------------------\n",
      "--------------------------------------------------\n",
      "\n",
      "Test MAE:2.59754244\t Test MAPE:51.84967745 %\n",
      "Epoch: 10 |\t               Train loss: 24.69349480 |\t               Test loss: 47.21826935\n",
      "--------------------------------------------------\n",
      "--------------------------------------------------\n",
      "\n",
      "Test MAE:2.47483334\t Test MAPE:52.64781876 %\n",
      "Epoch: 11 |\t               Train loss: 24.75201607 |\t               Test loss: 47.97121429\n",
      "--------------------------------------------------\n",
      "--------------------------------------------------\n",
      "\n",
      "Test MAE:2.66225658\t Test MAPE:51.85837143 %\n",
      "Epoch: 12 |\t               Train loss: 23.37110138 |\t               Test loss: 46.52054596\n",
      "--------------------------------------------------\n",
      "--------------------------------------------------\n",
      "\n",
      "Test MAE:2.45886781\t Test MAPE:53.07972873 %\n",
      "Epoch: 13 |\t               Train loss: 23.84946442 |\t               Test loss: 47.84991455\n",
      "--------------------------------------------------\n",
      "--------------------------------------------------\n",
      "\n",
      "Test MAE:2.71263493\t Test MAPE:51.28753883 %\n",
      "Epoch: 14 |\t               Train loss: 24.80687714 |\t               Test loss: 46.89529800\n",
      "--------------------------------------------------\n",
      "--------------------------------------------------\n",
      "\n",
      "Test MAE:2.27980294\t Test MAPE:60.51925258 %\n",
      "Epoch: 15 |\t               Train loss: 23.94031334 |\t               Test loss: 45.25258255\n",
      "--------------------------------------------------\n",
      "--------------------------------------------------\n",
      "\n",
      "Test MAE:2.48326157\t Test MAPE:53.20535797 %\n",
      "Epoch: 16 |\t               Train loss: 23.28631210 |\t               Test loss: 46.34181213\n",
      "--------------------------------------------------\n",
      "--------------------------------------------------\n",
      "\n",
      "Test MAE:2.34761936\t Test MAPE:56.17147717 %\n",
      "Epoch: 17 |\t               Train loss: 23.76396370 |\t               Test loss: 44.82650757\n",
      "--------------------------------------------------\n",
      "--------------------------------------------------\n",
      "\n",
      "Test MAE:2.42906621\t Test MAPE:52.85895586 %\n",
      "Epoch: 18 |\t               Train loss: 23.32993126 |\t               Test loss: 45.79972076\n",
      "--------------------------------------------------\n",
      "--------------------------------------------------\n",
      "\n",
      "Test MAE:2.53162657\t Test MAPE:52.13999188 %\n",
      "Epoch: 19 |\t               Train loss: 23.36038971 |\t               Test loss: 46.91947556\n",
      "--------------------------------------------------\n",
      "--------------------------------------------------\n",
      "\n",
      "Test MAE:2.31085672\t Test MAPE:58.12425101 %\n",
      "Epoch: 20 |\t               Train loss: 23.03743362 |\t               Test loss: 45.89239883\n",
      "--------------------------------------------------\n",
      "--------------------------------------------------\n",
      "\n",
      "Test MAE:2.48891812\t Test MAPE:52.58769282 %\n",
      "Epoch: 21 |\t               Train loss: 24.40852928 |\t               Test loss: 46.04202271\n",
      "--------------------------------------------------\n",
      "--------------------------------------------------\n",
      "\n",
      "Test MAE:2.39178077\t Test MAPE:55.96272061 %\n",
      "Epoch: 22 |\t               Train loss: 22.64798927 |\t               Test loss: 46.63829422\n",
      "--------------------------------------------------\n",
      "--------------------------------------------------\n",
      "\n",
      "Test MAE:2.37029779\t Test MAPE:54.87280414 %\n",
      "Epoch: 23 |\t               Train loss: 22.54605293 |\t               Test loss: 45.65039444\n",
      "--------------------------------------------------\n",
      "--------------------------------------------------\n",
      "\n",
      "Test MAE:2.44950757\t Test MAPE:53.96302176 %\n",
      "Epoch: 24 |\t               Train loss: 22.75478745 |\t               Test loss: 47.57240677\n",
      "--------------------------------------------------\n",
      "--------------------------------------------------\n",
      "\n",
      "Test MAE:2.39595497\t Test MAPE:54.63387647 %\n",
      "Epoch: 25 |\t               Train loss: 22.46565247 |\t               Test loss: 47.64333725\n",
      "Best MAE is: 2.27980294\n",
      "Best MAPE is: 51.28753883 %\n",
      "Best train loss is: 22.46565247\n",
      "Best test loss is: 44.82650757\n",
      "Total training time is: 18:29:58 (h:m:s)\n"
     ]
    }
   ],
   "source": [
    "\n",
    "def convert_seconds(seconds):\n",
    "    '''Calculate hours, minutes, and seconds'''\n",
    "    hours, remainder = divmod(seconds, 3600)\n",
    "    minutes, seconds = divmod(remainder, 60)\n",
    "    time_dict = {'Hours': int(hours),\n",
    "                 'Minutes': int(minutes),\n",
    "                 'Seconds': int(seconds)}\n",
    "    return time_dict\n",
    "\n",
    "\n",
    "# set timer to measure how long it takes to train\n",
    "start_time = timer()\n",
    "\n",
    "# training\n",
    "model_results, best_model = train(model, train_dataloader, val_dataloader, loss_fn, optimizer, epochs, scheduler)\n",
    "\n",
    "# end time\n",
    "end_time = timer()\n",
    "\n",
    "# default value for training time (will be changed according to actual time, otherwise indication of a problem)\n",
    "total_time = 0\n",
    "\n",
    "# total time\n",
    "total_time = end_time - start_time\n",
    "\n",
    "# get the time it took to run in the correct form\n",
    "time_dict = convert_seconds(total_time)\n",
    "\n",
    "# print the total training time\n",
    "print(f\"Total training time is: {time_dict['Hours']}:{time_dict['Minutes']}:{time_dict['Seconds']} (h:m:s)\")\n"
   ]
  },
  {
   "cell_type": "code",
   "execution_count": 14,
   "metadata": {},
   "outputs": [
    {
     "data": {
      "image/png": "[encoded data removed]",
      "text/plain": [
       "<Figure size 1600x700 with 1 Axes>"
      ]
     },
     "metadata": {},
     "output_type": "display_data"
    }
   ],
   "source": [
    "# Loss\n",
    "\n",
    "# get the num of epochs\n",
    "epoch_plot = range(len(model_results['train_loss']))\n",
    "\n",
    "# setup a plot\n",
    "plt.figure(figsize=(16, 7))\n",
    "\n",
    "# ploting\n",
    "plt.plot(epoch_plot, model_results['train_loss'], label='Train loss')\n",
    "plt.plot(epoch_plot, model_results['test_loss'], label='Val loss')\n",
    "plt.xlabel('Epochs')\n",
    "plt.ylabel('Loss')\n",
    "plt.title('Loss curve')\n",
    "plt.legend()\n",
    "plt.show()"
   ]
  },
  {
   "cell_type": "code",
   "execution_count": 15,
   "metadata": {},
   "outputs": [
    {
     "data": {
      "application/vnd.jupyter.widget-view+json": {
       "model_id": "d11fee7feee34461b51d716f9d422144",
       "version_major": 2,
       "version_minor": 0
      },
      "text/plain": [
       "  0%|          | 0/25 [00:00<?, ?it/s]"
      ]
     },
     "metadata": {},
     "output_type": "display_data"
    },
    {
     "name": "stdout",
     "output_type": "stream",
     "text": [
      "--------------------------------------------------\n",
      "--------------------------------------------------\n",
      "\n",
      "Test MAE:3.12080321\t Test MAPE:61.24832050 %\n",
      "Epoch: 1 |\t               Train loss: 28.56548691 |\t               Test loss: 296.86270142\n",
      "--------------------------------------------------\n",
      "--------------------------------------------------\n",
      "\n",
      "Test MAE:3.00964799\t Test MAPE:64.97014436 %\n",
      "Epoch: 2 |\t               Train loss: 27.85765266 |\t               Test loss: 293.97195435\n",
      "--------------------------------------------------\n",
      "--------------------------------------------------\n",
      "\n",
      "Test MAE:3.12713593\t Test MAPE:60.29823260 %\n",
      "Epoch: 3 |\t               Train loss: 27.56973457 |\t               Test loss: 290.96969604\n",
      "--------------------------------------------------\n",
      "--------------------------------------------------\n",
      "\n",
      "Test MAE:3.12505262\t Test MAPE:59.93997479 %\n",
      "Epoch: 4 |\t               Train loss: 27.37015533 |\t               Test loss: 289.76962280\n",
      "--------------------------------------------------\n",
      "--------------------------------------------------\n",
      "\n",
      "Test MAE:3.02581545\t Test MAPE:62.52900918 %\n",
      "Epoch: 5 |\t               Train loss: 27.29680252 |\t               Test loss: 289.05596924\n",
      "--------------------------------------------------\n",
      "--------------------------------------------------\n",
      "\n",
      "Test MAE:3.05473323\t Test MAPE:61.92646191 %\n",
      "Epoch: 6 |\t               Train loss: 27.32188034 |\t               Test loss: 289.03280640\n",
      "--------------------------------------------------\n",
      "--------------------------------------------------\n",
      "\n",
      "Test MAE:3.07794750\t Test MAPE:61.02865688 %\n",
      "Epoch: 7 |\t               Train loss: 26.98639488 |\t               Test loss: 288.23834229\n",
      "--------------------------------------------------\n",
      "--------------------------------------------------\n",
      "\n",
      "Test MAE:3.03934923\t Test MAPE:62.05178890 %\n",
      "Epoch: 8 |\t               Train loss: 26.89173508 |\t               Test loss: 287.17651367\n",
      "--------------------------------------------------\n",
      "--------------------------------------------------\n",
      "\n",
      "Test MAE:3.08045896\t Test MAPE:60.90701045 %\n",
      "Epoch: 9 |\t               Train loss: 27.27683449 |\t               Test loss: 286.74472046\n",
      "--------------------------------------------------\n",
      "--------------------------------------------------\n",
      "\n",
      "Test MAE:3.14665133\t Test MAPE:59.48727290 %\n",
      "Epoch: 10 |\t               Train loss: 26.69266319 |\t               Test loss: 285.86810303\n",
      "--------------------------------------------------\n",
      "--------------------------------------------------\n",
      "\n",
      "Test MAE:3.05020768\t Test MAPE:61.54568933 %\n",
      "Epoch: 11 |\t               Train loss: 26.51578712 |\t               Test loss: 285.43469238\n",
      "--------------------------------------------------\n",
      "--------------------------------------------------\n",
      "\n",
      "Test MAE:3.04924360\t Test MAPE:62.12576255 %\n",
      "Epoch: 12 |\t               Train loss: 26.44162369 |\t               Test loss: 285.94033813\n",
      "--------------------------------------------------\n",
      "--------------------------------------------------\n",
      "\n",
      "Test MAE:3.06756195\t Test MAPE:61.48547272 %\n",
      "Epoch: 13 |\t               Train loss: 26.40623665 |\t               Test loss: 286.28790283\n",
      "--------------------------------------------------\n",
      "--------------------------------------------------\n",
      "\n",
      "Test MAE:3.02532558\t Test MAPE:62.36738559 %\n",
      "Epoch: 14 |\t               Train loss: 26.70919991 |\t               Test loss: 284.60095215\n",
      "--------------------------------------------------\n",
      "--------------------------------------------------\n",
      "\n",
      "Test MAE:3.03517418\t Test MAPE:62.03360856 %\n",
      "Epoch: 15 |\t               Train loss: 26.21822166 |\t               Test loss: 284.28570557\n",
      "--------------------------------------------------\n",
      "--------------------------------------------------\n",
      "\n",
      "Test MAE:3.04041160\t Test MAPE:61.86483174 %\n",
      "Epoch: 16 |\t               Train loss: 26.16930008 |\t               Test loss: 283.71124268\n",
      "--------------------------------------------------\n",
      "--------------------------------------------------\n",
      "\n",
      "Test MAE:3.06799108\t Test MAPE:60.97245127 %\n",
      "Epoch: 17 |\t               Train loss: 26.09130478 |\t               Test loss: 283.34140015\n",
      "--------------------------------------------------\n",
      "--------------------------------------------------\n",
      "\n",
      "Test MAE:3.05875050\t Test MAPE:61.27991770 %\n",
      "Epoch: 18 |\t               Train loss: 26.05477524 |\t               Test loss: 283.23593140\n",
      "--------------------------------------------------\n",
      "--------------------------------------------------\n",
      "\n",
      "Test MAE:3.06582512\t Test MAPE:61.05569364 %\n",
      "Epoch: 19 |\t               Train loss: 26.02392578 |\t               Test loss: 283.10699463\n",
      "--------------------------------------------------\n",
      "--------------------------------------------------\n",
      "\n",
      "Test MAE:3.06814588\t Test MAPE:61.01266522 %\n",
      "Epoch: 20 |\t               Train loss: 25.99136925 |\t               Test loss: 282.97207642\n",
      "--------------------------------------------------\n",
      "--------------------------------------------------\n",
      "\n",
      "Test MAE:3.07593481\t Test MAPE:60.90283331 %\n",
      "Epoch: 21 |\t               Train loss: 25.98621178 |\t               Test loss: 283.07791138\n",
      "--------------------------------------------------\n",
      "--------------------------------------------------\n",
      "\n",
      "Test MAE:3.04165632\t Test MAPE:61.90352532 %\n",
      "Epoch: 22 |\t               Train loss: 25.96739769 |\t               Test loss: 282.84274292\n",
      "--------------------------------------------------\n",
      "--------------------------------------------------\n",
      "\n",
      "Test MAE:3.05424496\t Test MAPE:61.36573510 %\n",
      "Epoch: 23 |\t               Train loss: 25.95018768 |\t               Test loss: 282.44088745\n",
      "--------------------------------------------------\n",
      "--------------------------------------------------\n",
      "\n",
      "Test MAE:3.03122980\t Test MAPE:62.08630589 %\n",
      "Epoch: 24 |\t               Train loss: 25.90714645 |\t               Test loss: 282.43823242\n",
      "--------------------------------------------------\n",
      "--------------------------------------------------\n",
      "\n",
      "Test MAE:3.05516730\t Test MAPE:61.29326798 %\n",
      "Epoch: 25 |\t               Train loss: 25.88939476 |\t               Test loss: 282.25155640\n",
      "Best MAE is: 2.27980294\n",
      "Best MAPE is: 51.28753883 %\n",
      "Best train loss is: 25.88939476\n",
      "Best test loss is: 282.25155640\n",
      "Total training time is: 2:37:10 (h:m:s)\n"
     ]
    }
   ],
   "source": [
    "\n",
    "from torch.utils.data import ConcatDataset\n",
    "\n",
    "# Assuming you have dataloader_1 and dataloader_2 already defined\n",
    "\n",
    "# Concatenate the datasets\n",
    "concatenated_dataset = ConcatDataset([dataset_train, dataset_val])\n",
    "\n",
    "# Create a DataLoader for the concatenated dataset\n",
    "concatenated_dataloader = DataLoader(concatenated_dataset, batch_size=batch_size, shuffle=True)\n",
    "\n",
    "\n",
    "# set timer to measure how long it takes to train\n",
    "start_time = timer()\n",
    "\n",
    "# training\n",
    "model_results, best_model = train(model, concatenated_dataloader, test_dataloader, loss_fn, optimizer, epochs, scheduler)\n",
    "\n",
    "# end time\n",
    "end_time = timer()\n",
    "\n",
    "# default value for training time (will be changed according to actual time, otherwise indication of a problem)\n",
    "total_time = 0\n",
    "\n",
    "# total time\n",
    "total_time = end_time - start_time\n",
    "\n",
    "# get the time it took to run in the correct form\n",
    "time_dict = convert_seconds(total_time)\n",
    "\n",
    "# print the total training time\n",
    "print(f\"Total training time is: {time_dict['Hours']}:{time_dict['Minutes']}:{time_dict['Seconds']} (h:m:s)\")"
   ]
  },
  {
   "cell_type": "code",
   "execution_count": 18,
   "metadata": {},
   "outputs": [
    {
     "data": {
      "image/png": "[encoded data removed]",
      "text/plain": [
       "<Figure size 1600x700 with 1 Axes>"
      ]
     },
     "metadata": {},
     "output_type": "display_data"
    }
   ],
   "source": [
    "# Loss\n",
    "# setup a plot\n",
    "plt.figure(figsize=(16, 7))\n",
    "\n",
    "# get the num of epochs\n",
    "epoch_plot = range(len(model_results['test_loss']))\n",
    "\n",
    "# ploting\n",
    "plt.plot(epoch_plot, model_results['train_loss'], label='Train loss')\n",
    "plt.plot(epoch_plot, model_results['test_loss'], label='Test loss')\n",
    "plt.xlabel('Epochs')\n",
    "plt.ylabel('Loss')\n",
    "plt.title('Loss curve')\n",
    "plt.legend()\n",
    "plt.show()"
   ]
  },
  {
   "cell_type": "code",
   "execution_count": 22,
   "metadata": {
    "collapsed": false,
    "is_executing": true
   },
   "outputs": [],
   "source": [
    "model.load_state_dict(best_model)\n",
    "model.eval()\n",
    "\n",
    "\n",
    "with torch.no_grad():\n",
    "  train_predictions = np.array([])\n",
    "  for x in x_vector_train:\n",
    "      y_pred = model(torch.tensor(x).to(device))\n",
    "      y_pred = y_pred.last_hidden_state[:,-1,0]\n",
    "      y_pred = y_pred.cpu().detach().numpy()\n",
    "      train_predictions = np.concatenate((train_predictions, y_pred))\n",
    "\n",
    "\n",
    "  val_predictions = np.array([])\n",
    "  for x in x_vector_val:\n",
    "      y_pred = model(torch.tensor(x).to(device))\n",
    "      y_pred = y_pred.last_hidden_state[:,-1,0]\n",
    "      y_pred = y_pred.cpu().detach().numpy()\n",
    "      val_predictions = np.concatenate((val_predictions, y_pred))\n",
    "\n",
    "\n",
    "  test_predictions = np.array([])\n",
    "  for x in x_vector_test:\n",
    "      y_pred = model(torch.tensor(x).to(device))\n",
    "      y_pred = y_pred.last_hidden_state[:,-1,0]\n",
    "      y_pred = y_pred.cpu().detach().numpy()\n",
    "      test_predictions = np.concatenate((test_predictions, y_pred))\n"
   ]
  },
  {
   "cell_type": "code",
   "execution_count": 34,
   "metadata": {},
   "outputs": [
    {
     "data": {
      "image/png": "[encoded data removed]",
      "text/plain": [
       "<Figure size 2000x400 with 1 Axes>"
      ]
     },
     "metadata": {},
     "output_type": "display_data"
    }
   ],
   "source": [
    "plotting_y_train_pred = np.array([None] * window_size + list(train_predictions) + [None] * (num_data_points-(split_train_val+window_size)))\n",
    "plotting_y_val_pred = np.array([None] * (split_train_val+window_size) + list(val_predictions) + [None] * (num_data_points-(split_val_to_test+window_size)))\n",
    "plotting_y_test_pred = np.array([None] * (split_val_to_test+window_size) + list(test_predictions)[:-1])\n",
    "\n",
    "## plots\n",
    "data_date = np.arange(num_data_points)\n",
    "fig2 = plt.figure(figsize=(20, 4))\n",
    "plt.title(\"Predictions: Number of earthquakes per day - splited to train, validation and test\")\n",
    "\n",
    "xticks = data_date[0:num_data_points:500]\n",
    "plt.xticks(xticks, xticks)\n",
    "\n",
    "plt.plot(data_date, plotting_y_train_pred, label=\"Number of earthquakes (train)\", color='red')\n",
    "plt.plot(data_date, plotting_y_val_pred, label=\"Number of earthquakes (validation)\", color='orange')\n",
    "plt.plot(data_date, plotting_y_test_pred, label=\"Number of earthquakes (test)\", color='green')\n",
    "\n",
    "plt.text(x=(split_train_val) / 2, y=500, s=\"Train\", color=\"red\")\n",
    "plt.text(x=(split_val_to_test + split_train_val) / 2 +window_size, y=500, s=\"Val\", color='orange')\n",
    "plt.text(x=(num_data_points + (split_val_to_test+window_size)) / 2, y=500, s=\"Test\", color='green')\n",
    "\n",
    "plt.axvline(x=split_train_val+window_size, color='orange', linestyle='--')\n",
    "plt.axvline(x=split_val_to_test+window_size, color='green', linestyle='--')\n",
    "\n",
    "plt.ylim(0, 600)\n",
    "\n",
    "plt.show()"
   ]
  },
  {
   "cell_type": "code",
   "execution_count": 36,
   "metadata": {
    "collapsed": false,
    "is_executing": true
   },
   "outputs": [],
   "source": [
    "torch.save(model, 'Model/earthquake_predictor.pt')"
   ]
  }
 ],
 "metadata": {
  "accelerator": "GPU",
  "colab": {
   "gpuType": "T4",
   "provenance": [],
   "toc_visible": true
  },
  "kernelspec": {
   "display_name": "Python 3 (ipykernel)",
   "language": "python",
   "name": "python3"
  },
  "language_info": {
   "codemirror_mode": {
    "name": "ipython",
    "version": 3
   },
   "file_extension": ".py",
   "mimetype": "text/x-python",
   "name": "python",
   "nbconvert_exporter": "python",
   "pygments_lexer": "ipython3",
   "version": "3.12.2"
  }
 },
 "nbformat": 4,
 "nbformat_minor": 0
}
